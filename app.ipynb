{
 "cells": [
  {
   "cell_type": "markdown",
   "metadata": {},
   "source": [
    "# Introduction\n",
    "\n",
    "Stock is really big nowadays. Everyone is doing it to get some money out of it, but there’s really no set equation to earn big money. However, what if you can predict the increase or decrease in stocks by analyzing articles? Afterall, what happens to big corporations tends to be on the news, and based on what happen to a corporation, the stock price changes. So why not analyze the news article and predict if stock price will increase toward our favor or not? In making this possible, we have this tool called Text Sentiment Analysis API offered by Google Cloud that we can use to analyze the sentiment of a document. What we’ll be doing is scrape a few articles from big publishers like Forbes about a given corporation and compare the ratio of positive and negative articles. If there’s more positive articles than negative articles, we’ll predict that the stock price for that corporation would go up and same thing for the other case. \n"
   ]
  },
  {
   "cell_type": "code",
   "execution_count": 30,
   "metadata": {
    "scrolled": false
   },
   "outputs": [
    {
     "name": "stdout",
     "output_type": "stream",
     "text": [
      "Requirement already satisfied: google-cloud-language in /Users/wonwoonam/opt/anaconda3/lib/python3.8/site-packages (2.0.0)\n",
      "Requirement already satisfied: libcst>=0.2.5 in /Users/wonwoonam/opt/anaconda3/lib/python3.8/site-packages (from google-cloud-language) (0.3.18)\n",
      "Requirement already satisfied: google-api-core[grpc]<2.0.0dev,>=1.22.2 in /Users/wonwoonam/opt/anaconda3/lib/python3.8/site-packages (from google-cloud-language) (1.26.3)\n",
      "Requirement already satisfied: proto-plus>=1.10.0 in /Users/wonwoonam/opt/anaconda3/lib/python3.8/site-packages (from google-cloud-language) (1.18.1)\n",
      "Requirement already satisfied: typing-extensions>=3.7.4.2 in /Users/wonwoonam/opt/anaconda3/lib/python3.8/site-packages (from libcst>=0.2.5->google-cloud-language) (3.7.4.3)\n",
      "Requirement already satisfied: pyyaml>=5.2 in /Users/wonwoonam/opt/anaconda3/lib/python3.8/site-packages (from libcst>=0.2.5->google-cloud-language) (5.3.1)\n",
      "Requirement already satisfied: typing-inspect>=0.4.0 in /Users/wonwoonam/opt/anaconda3/lib/python3.8/site-packages (from libcst>=0.2.5->google-cloud-language) (0.6.0)\n",
      "Requirement already satisfied: requests<3.0.0dev,>=2.18.0 in /Users/wonwoonam/opt/anaconda3/lib/python3.8/site-packages (from google-api-core[grpc]<2.0.0dev,>=1.22.2->google-cloud-language) (2.24.0)\n",
      "Requirement already satisfied: six>=1.13.0 in /Users/wonwoonam/opt/anaconda3/lib/python3.8/site-packages (from google-api-core[grpc]<2.0.0dev,>=1.22.2->google-cloud-language) (1.15.0)\n",
      "Requirement already satisfied: google-auth<2.0dev,>=1.21.1 in /Users/wonwoonam/opt/anaconda3/lib/python3.8/site-packages (from google-api-core[grpc]<2.0.0dev,>=1.22.2->google-cloud-language) (1.28.0)\n",
      "Requirement already satisfied: packaging>=14.3 in /Users/wonwoonam/opt/anaconda3/lib/python3.8/site-packages (from google-api-core[grpc]<2.0.0dev,>=1.22.2->google-cloud-language) (20.4)\n",
      "Requirement already satisfied: pytz in /Users/wonwoonam/opt/anaconda3/lib/python3.8/site-packages (from google-api-core[grpc]<2.0.0dev,>=1.22.2->google-cloud-language) (2020.1)\n",
      "Requirement already satisfied: setuptools>=40.3.0 in /Users/wonwoonam/opt/anaconda3/lib/python3.8/site-packages (from google-api-core[grpc]<2.0.0dev,>=1.22.2->google-cloud-language) (50.3.1.post20201107)\n",
      "Requirement already satisfied: googleapis-common-protos<2.0dev,>=1.6.0 in /Users/wonwoonam/opt/anaconda3/lib/python3.8/site-packages (from google-api-core[grpc]<2.0.0dev,>=1.22.2->google-cloud-language) (1.53.0)\n",
      "Requirement already satisfied: protobuf>=3.12.0 in /Users/wonwoonam/opt/anaconda3/lib/python3.8/site-packages (from google-api-core[grpc]<2.0.0dev,>=1.22.2->google-cloud-language) (3.15.7)\n",
      "Requirement already satisfied: grpcio<2.0dev,>=1.29.0; extra == \"grpc\" in /Users/wonwoonam/opt/anaconda3/lib/python3.8/site-packages (from google-api-core[grpc]<2.0.0dev,>=1.22.2->google-cloud-language) (1.37.0)\n",
      "Requirement already satisfied: mypy-extensions>=0.3.0 in /Users/wonwoonam/opt/anaconda3/lib/python3.8/site-packages (from typing-inspect>=0.4.0->libcst>=0.2.5->google-cloud-language) (0.4.3)\n",
      "Requirement already satisfied: urllib3!=1.25.0,!=1.25.1,<1.26,>=1.21.1 in /Users/wonwoonam/opt/anaconda3/lib/python3.8/site-packages (from requests<3.0.0dev,>=2.18.0->google-api-core[grpc]<2.0.0dev,>=1.22.2->google-cloud-language) (1.25.11)\n",
      "Requirement already satisfied: certifi>=2017.4.17 in /Users/wonwoonam/opt/anaconda3/lib/python3.8/site-packages (from requests<3.0.0dev,>=2.18.0->google-api-core[grpc]<2.0.0dev,>=1.22.2->google-cloud-language) (2020.6.20)\n",
      "Requirement already satisfied: chardet<4,>=3.0.2 in /Users/wonwoonam/opt/anaconda3/lib/python3.8/site-packages (from requests<3.0.0dev,>=2.18.0->google-api-core[grpc]<2.0.0dev,>=1.22.2->google-cloud-language) (3.0.4)\n",
      "Requirement already satisfied: idna<3,>=2.5 in /Users/wonwoonam/opt/anaconda3/lib/python3.8/site-packages (from requests<3.0.0dev,>=2.18.0->google-api-core[grpc]<2.0.0dev,>=1.22.2->google-cloud-language) (2.10)\n",
      "Requirement already satisfied: rsa<5,>=3.1.4; python_version >= \"3.6\" in /Users/wonwoonam/opt/anaconda3/lib/python3.8/site-packages (from google-auth<2.0dev,>=1.21.1->google-api-core[grpc]<2.0.0dev,>=1.22.2->google-cloud-language) (4.7.2)\n",
      "Requirement already satisfied: pyasn1-modules>=0.2.1 in /Users/wonwoonam/opt/anaconda3/lib/python3.8/site-packages (from google-auth<2.0dev,>=1.21.1->google-api-core[grpc]<2.0.0dev,>=1.22.2->google-cloud-language) (0.2.8)\n",
      "Requirement already satisfied: cachetools<5.0,>=2.0.0 in /Users/wonwoonam/opt/anaconda3/lib/python3.8/site-packages (from google-auth<2.0dev,>=1.21.1->google-api-core[grpc]<2.0.0dev,>=1.22.2->google-cloud-language) (4.2.1)\n",
      "Requirement already satisfied: pyparsing>=2.0.2 in /Users/wonwoonam/opt/anaconda3/lib/python3.8/site-packages (from packaging>=14.3->google-api-core[grpc]<2.0.0dev,>=1.22.2->google-cloud-language) (2.4.7)\n",
      "Requirement already satisfied: pyasn1>=0.1.3 in /Users/wonwoonam/opt/anaconda3/lib/python3.8/site-packages (from rsa<5,>=3.1.4; python_version >= \"3.6\"->google-auth<2.0dev,>=1.21.1->google-api-core[grpc]<2.0.0dev,>=1.22.2->google-cloud-language) (0.4.8)\n",
      "Note: you may need to restart the kernel to use updated packages.\n"
     ]
    }
   ],
   "source": [
    "pip install google-cloud-language"
   ]
  },
  {
   "cell_type": "code",
   "execution_count": 31,
   "metadata": {},
   "outputs": [
    {
     "name": "stdout",
     "output_type": "stream",
     "text": [
      "Requirement already up-to-date: google-cloud-language in /Users/wonwoonam/opt/anaconda3/lib/python3.8/site-packages (2.0.0)\n",
      "Requirement already satisfied, skipping upgrade: libcst>=0.2.5 in /Users/wonwoonam/opt/anaconda3/lib/python3.8/site-packages (from google-cloud-language) (0.3.18)\n",
      "Requirement already satisfied, skipping upgrade: proto-plus>=1.10.0 in /Users/wonwoonam/opt/anaconda3/lib/python3.8/site-packages (from google-cloud-language) (1.18.1)\n",
      "Requirement already satisfied, skipping upgrade: google-api-core[grpc]<2.0.0dev,>=1.22.2 in /Users/wonwoonam/opt/anaconda3/lib/python3.8/site-packages (from google-cloud-language) (1.26.3)\n",
      "Requirement already satisfied, skipping upgrade: pyyaml>=5.2 in /Users/wonwoonam/opt/anaconda3/lib/python3.8/site-packages (from libcst>=0.2.5->google-cloud-language) (5.3.1)\n",
      "Requirement already satisfied, skipping upgrade: typing-extensions>=3.7.4.2 in /Users/wonwoonam/opt/anaconda3/lib/python3.8/site-packages (from libcst>=0.2.5->google-cloud-language) (3.7.4.3)\n",
      "Requirement already satisfied, skipping upgrade: typing-inspect>=0.4.0 in /Users/wonwoonam/opt/anaconda3/lib/python3.8/site-packages (from libcst>=0.2.5->google-cloud-language) (0.6.0)\n",
      "Requirement already satisfied, skipping upgrade: protobuf>=3.12.0 in /Users/wonwoonam/opt/anaconda3/lib/python3.8/site-packages (from proto-plus>=1.10.0->google-cloud-language) (3.15.7)\n",
      "Requirement already satisfied, skipping upgrade: pytz in /Users/wonwoonam/opt/anaconda3/lib/python3.8/site-packages (from google-api-core[grpc]<2.0.0dev,>=1.22.2->google-cloud-language) (2020.1)\n",
      "Requirement already satisfied, skipping upgrade: six>=1.13.0 in /Users/wonwoonam/opt/anaconda3/lib/python3.8/site-packages (from google-api-core[grpc]<2.0.0dev,>=1.22.2->google-cloud-language) (1.15.0)\n",
      "Requirement already satisfied, skipping upgrade: packaging>=14.3 in /Users/wonwoonam/opt/anaconda3/lib/python3.8/site-packages (from google-api-core[grpc]<2.0.0dev,>=1.22.2->google-cloud-language) (20.4)\n",
      "Requirement already satisfied, skipping upgrade: googleapis-common-protos<2.0dev,>=1.6.0 in /Users/wonwoonam/opt/anaconda3/lib/python3.8/site-packages (from google-api-core[grpc]<2.0.0dev,>=1.22.2->google-cloud-language) (1.53.0)\n",
      "Requirement already satisfied, skipping upgrade: setuptools>=40.3.0 in /Users/wonwoonam/opt/anaconda3/lib/python3.8/site-packages (from google-api-core[grpc]<2.0.0dev,>=1.22.2->google-cloud-language) (50.3.1.post20201107)\n",
      "Requirement already satisfied, skipping upgrade: google-auth<2.0dev,>=1.21.1 in /Users/wonwoonam/opt/anaconda3/lib/python3.8/site-packages (from google-api-core[grpc]<2.0.0dev,>=1.22.2->google-cloud-language) (1.28.0)\n",
      "Requirement already satisfied, skipping upgrade: requests<3.0.0dev,>=2.18.0 in /Users/wonwoonam/opt/anaconda3/lib/python3.8/site-packages (from google-api-core[grpc]<2.0.0dev,>=1.22.2->google-cloud-language) (2.24.0)\n",
      "Requirement already satisfied, skipping upgrade: grpcio<2.0dev,>=1.29.0; extra == \"grpc\" in /Users/wonwoonam/opt/anaconda3/lib/python3.8/site-packages (from google-api-core[grpc]<2.0.0dev,>=1.22.2->google-cloud-language) (1.37.0)\n",
      "Requirement already satisfied, skipping upgrade: mypy-extensions>=0.3.0 in /Users/wonwoonam/opt/anaconda3/lib/python3.8/site-packages (from typing-inspect>=0.4.0->libcst>=0.2.5->google-cloud-language) (0.4.3)\n",
      "Requirement already satisfied, skipping upgrade: pyparsing>=2.0.2 in /Users/wonwoonam/opt/anaconda3/lib/python3.8/site-packages (from packaging>=14.3->google-api-core[grpc]<2.0.0dev,>=1.22.2->google-cloud-language) (2.4.7)\n",
      "Requirement already satisfied, skipping upgrade: rsa<5,>=3.1.4; python_version >= \"3.6\" in /Users/wonwoonam/opt/anaconda3/lib/python3.8/site-packages (from google-auth<2.0dev,>=1.21.1->google-api-core[grpc]<2.0.0dev,>=1.22.2->google-cloud-language) (4.7.2)\n",
      "Requirement already satisfied, skipping upgrade: cachetools<5.0,>=2.0.0 in /Users/wonwoonam/opt/anaconda3/lib/python3.8/site-packages (from google-auth<2.0dev,>=1.21.1->google-api-core[grpc]<2.0.0dev,>=1.22.2->google-cloud-language) (4.2.1)\n",
      "Requirement already satisfied, skipping upgrade: pyasn1-modules>=0.2.1 in /Users/wonwoonam/opt/anaconda3/lib/python3.8/site-packages (from google-auth<2.0dev,>=1.21.1->google-api-core[grpc]<2.0.0dev,>=1.22.2->google-cloud-language) (0.2.8)\n",
      "Requirement already satisfied, skipping upgrade: chardet<4,>=3.0.2 in /Users/wonwoonam/opt/anaconda3/lib/python3.8/site-packages (from requests<3.0.0dev,>=2.18.0->google-api-core[grpc]<2.0.0dev,>=1.22.2->google-cloud-language) (3.0.4)\n",
      "Requirement already satisfied, skipping upgrade: idna<3,>=2.5 in /Users/wonwoonam/opt/anaconda3/lib/python3.8/site-packages (from requests<3.0.0dev,>=2.18.0->google-api-core[grpc]<2.0.0dev,>=1.22.2->google-cloud-language) (2.10)\n",
      "Requirement already satisfied, skipping upgrade: certifi>=2017.4.17 in /Users/wonwoonam/opt/anaconda3/lib/python3.8/site-packages (from requests<3.0.0dev,>=2.18.0->google-api-core[grpc]<2.0.0dev,>=1.22.2->google-cloud-language) (2020.6.20)\n",
      "Requirement already satisfied, skipping upgrade: urllib3!=1.25.0,!=1.25.1,<1.26,>=1.21.1 in /Users/wonwoonam/opt/anaconda3/lib/python3.8/site-packages (from requests<3.0.0dev,>=2.18.0->google-api-core[grpc]<2.0.0dev,>=1.22.2->google-cloud-language) (1.25.11)\n",
      "Requirement already satisfied, skipping upgrade: pyasn1>=0.1.3 in /Users/wonwoonam/opt/anaconda3/lib/python3.8/site-packages (from rsa<5,>=3.1.4; python_version >= \"3.6\"->google-auth<2.0dev,>=1.21.1->google-api-core[grpc]<2.0.0dev,>=1.22.2->google-cloud-language) (0.4.8)\n",
      "Note: you may need to restart the kernel to use updated packages.\n"
     ]
    }
   ],
   "source": [
    "pip install --upgrade google-cloud-language"
   ]
  },
  {
   "cell_type": "code",
   "execution_count": 32,
   "metadata": {},
   "outputs": [
    {
     "name": "stdout",
     "output_type": "stream",
     "text": [
      "Requirement already satisfied: MechanicalSoup in /Users/wonwoonam/opt/anaconda3/lib/python3.8/site-packages (1.0.0)\n",
      "Requirement already satisfied: beautifulsoup4>=4.4 in /Users/wonwoonam/opt/anaconda3/lib/python3.8/site-packages (from MechanicalSoup) (4.9.3)\n",
      "Requirement already satisfied: six>=1.4 in /Users/wonwoonam/opt/anaconda3/lib/python3.8/site-packages (from MechanicalSoup) (1.15.0)\n",
      "Requirement already satisfied: lxml in /Users/wonwoonam/opt/anaconda3/lib/python3.8/site-packages (from MechanicalSoup) (4.6.1)\n",
      "Requirement already satisfied: requests>=2.0 in /Users/wonwoonam/opt/anaconda3/lib/python3.8/site-packages (from MechanicalSoup) (2.24.0)\n",
      "Requirement already satisfied: soupsieve>1.2; python_version >= \"3.0\" in /Users/wonwoonam/opt/anaconda3/lib/python3.8/site-packages (from beautifulsoup4>=4.4->MechanicalSoup) (2.0.1)\n",
      "Requirement already satisfied: chardet<4,>=3.0.2 in /Users/wonwoonam/opt/anaconda3/lib/python3.8/site-packages (from requests>=2.0->MechanicalSoup) (3.0.4)\n",
      "Requirement already satisfied: urllib3!=1.25.0,!=1.25.1,<1.26,>=1.21.1 in /Users/wonwoonam/opt/anaconda3/lib/python3.8/site-packages (from requests>=2.0->MechanicalSoup) (1.25.11)\n",
      "Requirement already satisfied: idna<3,>=2.5 in /Users/wonwoonam/opt/anaconda3/lib/python3.8/site-packages (from requests>=2.0->MechanicalSoup) (2.10)\n",
      "Requirement already satisfied: certifi>=2017.4.17 in /Users/wonwoonam/opt/anaconda3/lib/python3.8/site-packages (from requests>=2.0->MechanicalSoup) (2020.6.20)\n",
      "Note: you may need to restart the kernel to use updated packages.\n"
     ]
    }
   ],
   "source": [
    "pip install MechanicalSoup"
   ]
  },
  {
   "cell_type": "markdown",
   "metadata": {},
   "source": [
    "# Setting up\n",
    "Now, in order to use the API, you must register yourself in Google Cloud and get the client key json file. Because this is too much of a work that involves billing information and other sensitive information, I went ahead and made a temporary account and provided you with the key json file. (Do not overuse this key)\n"
   ]
  },
  {
   "cell_type": "code",
   "execution_count": 33,
   "metadata": {},
   "outputs": [],
   "source": [
    "from google.cloud import language_v1\n",
    "import matplotlib.pyplot as plt\n",
    "import mechanicalsoup\n",
    "import os\n",
    "import sys"
   ]
  },
  {
   "cell_type": "markdown",
   "metadata": {},
   "source": [
    "# Coding\n",
    "Let us now get into coding. You first have to install google-cloud language as well as upgrade it. Then, you also need to install MechanicalSoup. MechanicalSoup will be useful in the process of web scraping and google-cloud language will be useful in using the Sentiment Analysis API.\n",
    "\n",
    "Before moving onto the actual code, we’ll first setup the client to use the Sentiment Analysis API. As mentioned above, the json file with private key is provided. Make sure the file is on the same folder as this file (app.py)."
   ]
  },
  {
   "cell_type": "code",
   "execution_count": 34,
   "metadata": {},
   "outputs": [],
   "source": [
    "fileName = \"key.json\"\n",
    "scriptDir = os.path.dirname(os.path.realpath('__file__'))\n",
    "a = os.path.join(scriptDir, fileName)\n",
    "client = language_v1.LanguageServiceClient.from_service_account_json(a)"
   ]
  },
  {
   "cell_type": "markdown",
   "metadata": {},
   "source": [
    "# Scraping Data\n",
    "In this section, we’ll be scraping data and returning the dataset of sentiment scores given a keyword. To describe the general procedure, we first declare a StatefulBrowser using Mechanicalsoup to interact with HTML elements. Then, we find the class that corresponds to the articles that we want to extract from Forbes. This is pretty similar to what we did with homework on Yelp API so this shouldn’t be that hard to understand. (In this tutorial, we’re using MechanicalSoup, not BeautifulSoup, because MechanicalSoup lets us do so much more with less lines of code when it comes to web scraping)\n"
   ]
  },
  {
   "cell_type": "code",
   "execution_count": 35,
   "metadata": {},
   "outputs": [],
   "source": [
    "#Forbes Example\n",
    "brw1 = mechanicalsoup.StatefulBrowser()\n",
    "url1 = \"https://www.forbes.com/search/?q=%s\" % ('tesla')\n",
    "brw1.open(url1)\n",
    "links1 = brw1.page.find_all(class_=\"stream-item et-promoblock-removeable-item et-promoblock-star-item\")"
   ]
  },
  {
   "cell_type": "markdown",
   "metadata": {},
   "source": [
    "The only downside of this is that you have to go to each of the website to find the format in which the articles are arranged in. As you can see when running the above code, 'links' just returns the class names and it's not so pretty to look at the class names in such a long list, so we'll try converting these class names into actual texts. But first, I have a few other examples of opening up the websites and collecting class names for other publishers."
   ]
  },
  {
   "cell_type": "code",
   "execution_count": 36,
   "metadata": {},
   "outputs": [],
   "source": [
    "#New York Times Example\n",
    "brw2 = mechanicalsoup.StatefulBrowser()\n",
    "url2 = \"https://www.nytimes.com/search?query=%s\" % ('tesla')\n",
    "brw2.open(url2)\n",
    "links2 = brw2.page.find_all(class_=\"css-1l4w6pd\")"
   ]
  },
  {
   "cell_type": "markdown",
   "metadata": {},
   "source": [
    "Now we'll take a look at how the classifications of the articles are converted into actual documents of the articles' text. Below is just another step to ensure we go as deep into the websites' hiearchy as where we should go to scrape the articles. "
   ]
  },
  {
   "cell_type": "code",
   "execution_count": 37,
   "metadata": {},
   "outputs": [],
   "source": [
    "href = links1[0].a.get('href')\n",
    "brw1.open(href)\n",
    "class_dict1 = {\"class\":\"article-body fs-article fs-responsive-text current-article\"}\n",
    "body = brw1.page.find('div', class_dict1)"
   ]
  },
  {
   "cell_type": "markdown",
   "metadata": {},
   "source": [
    "Next, we will go into the actual analysis of the text sentiment. Surprisingly, this can be done with one line of code. But before that, we have to finish our extraction of the article text. To do this, we have to make sure the body we extracted above is not 'None' and then combine all the paragraphs for each article to have it analyzed for the sentimentality."
   ]
  },
  {
   "cell_type": "code",
   "execution_count": 38,
   "metadata": {},
   "outputs": [],
   "source": [
    "if body:\n",
    "    txts = []\n",
    "    contents = body.find_all('p')\n",
    "    for ext in contents:\n",
    "        txts.append(ext.getText())\n",
    "        text = (\" \".join(txts))\n",
    "        document = language_v1.Document(content=text, type_=language_v1.Document.Type.PLAIN_TEXT)\n",
    "        sentiment = client.analyze_sentiment(request={'document': document}).document_sentiment"
   ]
  },
  {
   "cell_type": "markdown",
   "metadata": {},
   "source": [
    "So this is it for analyzing sentiment of an article and we'll go right ahead in making a function that takes in a keyword of the corporation and returns the list of sentiment scores."
   ]
  },
  {
   "cell_type": "code",
   "execution_count": 39,
   "metadata": {},
   "outputs": [],
   "source": [
    "def forbesSentiment(keyword, num):\n",
    "    brw = mechanicalsoup.StatefulBrowser()\n",
    "    brw.open(\"https://www.forbes.com/search/?q=%s\" % (keyword))\n",
    "    links = brw.page.find_all(class_=\"stream-item et-promoblock-removeable-item et-promoblock-star-item\")\n",
    "    lst = []\n",
    "    limit = 0\n",
    "    for lk in links:\n",
    "        if limit == num:  \n",
    "            break\n",
    "        href = lk.a.get('href')\n",
    "        brw.open(href)\n",
    "        class_dict = {\"class\":\"article-body fs-article fs-responsive-text current-article\"}\n",
    "        body = brw.page.find('div', class_dict )\n",
    "        if not body:    \n",
    "            continue\n",
    "        txts = []\n",
    "        contents = body.find_all('p')\n",
    "        for ext in contents:\n",
    "            txts.append(ext.getText())\n",
    "        text = (\" \".join(txts))\n",
    "        document = language_v1.Document(content=text, type_=language_v1.Document.Type.PLAIN_TEXT)\n",
    "        sentiment = client.analyze_sentiment(request={'document': document}).document_sentiment\n",
    "        lst.append(sentiment.score)\n",
    "        limit += 1\n",
    "    brw.close()\n",
    "    return lst    "
   ]
  },
  {
   "cell_type": "markdown",
   "metadata": {},
   "source": [
    "To compare how the sentiment scores are different for each publishers, I've integrated a function that finds a list of sentiment scores from New York Times articles. This way, we can compare if one publisher is more negatively driven when writing articles than others."
   ]
  },
  {
   "cell_type": "code",
   "execution_count": 40,
   "metadata": {},
   "outputs": [],
   "source": [
    "def nyTimesSentiment(keyword, num):\n",
    "    brw = mechanicalsoup.StatefulBrowser()\n",
    "    brw.open(\"https://www.nytimes.com/search?query=%s\" % (keyword))\n",
    "    links = brw.page.find_all(class_=\"css-1l4w6pd\")\n",
    "    base = 'https://www.nytimes.com'\n",
    "    lst = []\n",
    "    limit = 0\n",
    "    for lk in links:\n",
    "        if limit == num:  \n",
    "            break\n",
    "        href = lk.a.get('href')\n",
    "        full = base + href\n",
    "        brw.open(full)\n",
    "        body = brw.page.find('section', {\"name\":\"articleBody\"})\n",
    "        if not body:    \n",
    "            break\n",
    "        txts = []\n",
    "        contents = body.find_all('p')\n",
    "        for ext in contents:\n",
    "            txts.append(ext.getText())\n",
    "        text = (\" \".join(txts))\n",
    "        document = language_v1.Document(content=text, type_=language_v1.Document.Type.PLAIN_TEXT)\n",
    "\n",
    "        sentiment = client.analyze_sentiment(request={'document': document}).document_sentiment\n",
    "        lst.append(sentiment.score)\n",
    "        limit += 1\n",
    "    brw.close()\n",
    "    return lst    "
   ]
  },
  {
   "cell_type": "code",
   "execution_count": 41,
   "metadata": {},
   "outputs": [
    {
     "name": "stdout",
     "output_type": "stream",
     "text": [
      "Forbes Sentiment Scores: \n",
      "[-0.10000000149011612, 0.0, 0.10000000149011612, 0.0, 0.0, -0.10000000149011612, -0.20000000298023224, 0.0, 0.0, 0.0]\n",
      "New York Times Sentiment Scores: \n",
      "[-0.10000000149011612, -0.4000000059604645, -0.20000000298023224, -0.6000000238418579, -0.10000000149011612, -0.30000001192092896, -0.30000001192092896, 0.0, -0.10000000149011612, 0.0]\n"
     ]
    }
   ],
   "source": [
    "if __name__ == '__main__':\n",
    "    print(\"Forbes Sentiment Scores: \")\n",
    "    print(forbesSentiment('tesla', 10))\n",
    "    print(\"New York Times Sentiment Scores: \")\n",
    "    print(nyTimesSentiment('tesla', 10))\n",
    "    "
   ]
  },
  {
   "cell_type": "markdown",
   "metadata": {},
   "source": [
    "As an additional visualization, we can plot the data using plt.hist. Increasing the number of articles to analyze will greatly increase the number of runtime, but by looking at the plotted graph, we can see if the articles are focused in the negative scores or the positive scores."
   ]
  },
  {
   "cell_type": "code",
   "execution_count": 42,
   "metadata": {},
   "outputs": [
    {
     "data": {
      "image/png": "[encoded data removed]",
      "text/plain": [
       "<Figure size 432x288 with 1 Axes>"
      ]
     },
     "metadata": {
      "needs_background": "light"
     },
     "output_type": "display_data"
    }
   ],
   "source": [
    "dta = forbesSentiment('tesla', 20)\n",
    "plt.hist(dta, bins = 5)\n",
    "plt.show()"
   ]
  },
  {
   "cell_type": "code",
   "execution_count": 43,
   "metadata": {},
   "outputs": [
    {
     "data": {
      "image/png": "[encoded data removed]",
      "text/plain": [
       "<Figure size 432x288 with 1 Axes>"
      ]
     },
     "metadata": {
      "needs_background": "light"
     },
     "output_type": "display_data"
    }
   ],
   "source": [
    "dta = nyTimesSentiment('tesla', 20)\n",
    "plt.hist(dta, bins = 5)\n",
    "plt.show()"
   ]
  },
  {
   "cell_type": "markdown",
   "metadata": {},
   "source": [
    "Although the amount of data is insufficient, we can see that New York Times has more negative inclination than Forbes on articles about 'Tesla'."
   ]
  },
  {
   "cell_type": "markdown",
   "metadata": {},
   "source": [
    "# Comparing Data\n",
    "Now that we have scraped data and got a sentiment analysis on those data, we'll compare our prediction with the actual stock data set. We will use API from alphavantage and compare the data from yesterday's stock price change with our prediction on 10 most recent articles. \n",
    "\n",
    "The connection here has been written about in various papers and is used in some startups. If you want to learn and read more about this topic, here are some of the links to the papers written on this topic: \n",
    "\n",
    "Paper1: https://arxiv.org/pdf/1812.04199.pdf\n",
    "\n",
    "Paper2: https://www.tandfonline.com/doi/full/10.1080/24751839.2021.1874252#:~:text=1.-,Introduction,with%20positive%20or%20negative%20sentiments\n",
    "\n",
    "\n",
    "Let us now dig into coding so that we know if this theory is valid!"
   ]
  },
  {
   "cell_type": "code",
   "execution_count": 44,
   "metadata": {},
   "outputs": [],
   "source": [
    "import io, time, json\n",
    "import requests\n",
    "from datetime import datetime, timedelta"
   ]
  },
  {
   "cell_type": "markdown",
   "metadata": {},
   "source": [
    "For the sake of consistency, we'll use Tesla as the key corporation of analyzation."
   ]
  },
  {
   "cell_type": "code",
   "execution_count": 45,
   "metadata": {},
   "outputs": [],
   "source": [
    "key = \"AIOG7263S8YMMVNI\"\n",
    "url = \"https://www.alphavantage.co/query?function=TIME_SERIES_DAILY&symbol=TSLA&outputsize=1&apikey=\"+key\n",
    "response = requests.get(url)\n",
    "jsonData = response.json()\n",
    "daily_data = jsonData['Time Series (Daily)']"
   ]
  },
  {
   "cell_type": "markdown",
   "metadata": {},
   "source": [
    "In the next snippet of code, we're basically getting yesterday's date and comparing the change of stock market price for Tesla by looking at opening price and closing prices."
   ]
  },
  {
   "cell_type": "code",
   "execution_count": 46,
   "metadata": {},
   "outputs": [],
   "source": [
    "yesterday = datetime.now() - timedelta(1)\n",
    "temp = datetime.date(yesterday)\n",
    "wkday = temp.weekday()\n",
    "if wkday == 5:\n",
    "    yesterday = datetime.now() - timedelta(2)\n",
    "elif wkday == 6:\n",
    "    yesterday = datetime.now() - timedelta(3)\n",
    "\n",
    "yesterday = datetime.strftime(yesterday, '%Y-%m-%d')"
   ]
  },
  {
   "cell_type": "code",
   "execution_count": 47,
   "metadata": {},
   "outputs": [],
   "source": [
    "ystrday_data = daily_data[yesterday]\n",
    "open_val = ystrday_data['1. open']\n",
    "open_val = float(open_val)\n",
    "close_val = ystrday_data['4. close']\n",
    "close_val = float(close_val)"
   ]
  },
  {
   "cell_type": "code",
   "execution_count": 48,
   "metadata": {},
   "outputs": [],
   "source": [
    "stock_change = \"\"\n",
    "if open_val > close_val:\n",
    "    stock_change = \"decreased\"\n",
    "elif open_val < close_val:\n",
    "    stock_change = \"increased\"\n",
    "else:\n",
    "    stock_change = \"no change\""
   ]
  },
  {
   "cell_type": "markdown",
   "metadata": {},
   "source": [
    "The code below sorts positive sentiment scores from negative scores and predict that the stock price will decrease if there's more negative scores than positive scores as well as the other way around."
   ]
  },
  {
   "cell_type": "code",
   "execution_count": 49,
   "metadata": {},
   "outputs": [],
   "source": [
    "company = 'tesla'\n",
    "stment_scores = forbesSentiment(company, 10)\n",
    "neg_count = 0\n",
    "pos_count = 0\n",
    "for scores in stment_scores:\n",
    "    if scores>0:\n",
    "        pos_count +=0\n",
    "    elif scores<0:\n",
    "        neg_count +=0"
   ]
  },
  {
   "cell_type": "code",
   "execution_count": 50,
   "metadata": {},
   "outputs": [],
   "source": [
    "prdiction = \"\"\n",
    "if neg_count > pos_count:\n",
    "    prdiction = \"decreased\"\n",
    "elif pos_count > neg_count:\n",
    "    prdiction = \"increased\"\n",
    "else:\n",
    "    prdiction = \"no change\""
   ]
  },
  {
   "cell_type": "markdown",
   "metadata": {},
   "source": [
    "Then we compare the prediction from the actual data in order to see if our prediction was correct or not. Really, to make this equation work, I would have to compare what my prediction was with the stock price for that day, but the Alphavantage API doesn't offer current date's stock data. Therefore, we'll just work with the most recent data set avilable. "
   ]
  },
  {
   "cell_type": "code",
   "execution_count": 51,
   "metadata": {},
   "outputs": [
    {
     "name": "stdout",
     "output_type": "stream",
     "text": [
      "Wrong Prediction\n"
     ]
    }
   ],
   "source": [
    "if stment_scores == prdiction:\n",
    "    result = \"Accurate Prediction\"\n",
    "else:\n",
    "    result = \"Wrong Prediction\"\n",
    "print(result)"
   ]
  },
  {
   "cell_type": "markdown",
   "metadata": {},
   "source": [
    "This tutorial was for me to briefly explain how the stock market could be predicted with sentimental analysis of articles. As mentioned before, there are papers published about this topic and because I didn't want to follow exactly the procedures that they took in those papaers, this was a chance for me to prove the theory in my own very way. So feel free to give me some comments on what should've been done or what you liked about this tutorial. If you want to learn more about this topic and about the google clound api, refer to the link that I attached in above and to this link: https://cloud.google.com/natural-language/docs/reference/libraries"
   ]
  }
 ],
 "metadata": {
  "kernelspec": {
   "display_name": "Python 3",
   "language": "python",
   "name": "python3"
  },
  "language_info": {
   "codemirror_mode": {
    "name": "ipython",
    "version": 3
   },
   "file_extension": ".py",
   "mimetype": "text/x-python",
   "name": "python",
   "nbconvert_exporter": "python",
   "pygments_lexer": "ipython3",
   "version": "3.8.5"
  }
 },
 "nbformat": 4,
 "nbformat_minor": 4
}
